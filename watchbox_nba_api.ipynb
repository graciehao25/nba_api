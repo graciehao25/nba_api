{
 "cells": [
  {
   "cell_type": "code",
   "execution_count": 25,
   "metadata": {},
   "outputs": [],
   "source": [
    "import requests\n",
    "from tqdm import trange\n",
    "import json\n",
    "import time\n",
    "import pandas as pd\n",
    "import numpy as np"
   ]
  },
  {
   "cell_type": "code",
   "execution_count": 57,
   "metadata": {},
   "outputs": [],
   "source": [
    "test=requests.get('https://www.balldontlie.io/api/v1/stats?seasons[]=2018&page=1').json()"
   ]
  },
  {
   "cell_type": "code",
   "execution_count": 58,
   "metadata": {},
   "outputs": [
    {
     "data": {
      "text/plain": [
       "{'total_pages': 1317,\n",
       " 'current_page': 1,\n",
       " 'next_page': 2,\n",
       " 'per_page': 25,\n",
       " 'total_count': 32901}"
      ]
     },
     "execution_count": 58,
     "metadata": {},
     "output_type": "execute_result"
    }
   ],
   "source": [
    "test['meta']"
   ]
  },
  {
   "cell_type": "markdown",
   "metadata": {},
   "source": [
    "## data struction stats dictionary is per player per game.\n",
    "1. stats[dict]\n",
    "    1. data[list]\n",
    "        1. player[dict]\n",
    "            1. id[int]\n",
    "            2. first_name[str]\n",
    "            3. last_name[str]\n",
    "        2. game[dict]\n",
    "            1. id[int]\n",
    "            2. ...\n",
    "        3. pts[int]\n",
    "    2. meta[list]"
   ]
  },
  {
   "cell_type": "code",
   "execution_count": 41,
   "metadata": {},
   "outputs": [],
   "source": [
    "max_page=test['meta']['total_pages']"
   ]
  },
  {
   "cell_type": "markdown",
   "metadata": {},
   "source": [
    "## get all stats for season 2018-2019"
   ]
  },
  {
   "cell_type": "code",
   "execution_count": 44,
   "metadata": {
    "scrolled": false
   },
   "outputs": [
    {
     "name": "stderr",
     "output_type": "stream",
     "text": [
      "100%|██████████| 330/330 [06:04<00:00,  1.11s/it]\n"
     ]
    }
   ],
   "source": [
    "all_stats=[]\n",
    "for i in trange(max_page):\n",
    "    stats=requests.get(f'https://www.balldontlie.io/api/v1/stats?seasons[]=2018&per_page=100&page={i+1}').json()\n",
    "#     if stats[\"meta\"][\"next_page\"]:\n",
    "    all_stats.extend(stats['data'])\n",
    "    time.sleep(1/2)\n",
    "        "
   ]
  },
  {
   "cell_type": "markdown",
   "metadata": {},
   "source": [
    "##  verifying total counts match"
   ]
  },
  {
   "cell_type": "code",
   "execution_count": 46,
   "metadata": {
    "scrolled": true
   },
   "outputs": [
    {
     "data": {
      "text/plain": [
       "32901"
      ]
     },
     "execution_count": 46,
     "metadata": {},
     "output_type": "execute_result"
    }
   ],
   "source": [
    "len(all_stats)"
   ]
  },
  {
   "cell_type": "markdown",
   "metadata": {},
   "source": [
    "## save Json file"
   ]
  },
  {
   "cell_type": "code",
   "execution_count": 54,
   "metadata": {},
   "outputs": [],
   "source": [
    "with open('all_stats.json', 'w') as f:\n",
    "    json.dump(all_stats, f)"
   ]
  },
  {
   "cell_type": "markdown",
   "metadata": {},
   "source": [
    "## get top 10 Scorers"
   ]
  },
  {
   "cell_type": "code",
   "execution_count": 94,
   "metadata": {},
   "outputs": [
    {
     "name": "stderr",
     "output_type": "stream",
     "text": [
      "\n",
      "100%|██████████| 32901/32901 [00:00<00:00, 412062.35it/s]\n"
     ]
    }
   ],
   "source": [
    "pts_all_game=[]\n",
    "for i in trange(len(all_stats)):\n",
    "    if all_stats[i]['player']:\n",
    "        player_id=all_stats[i]['player']['id']\n",
    "        game_id=all_stats[i]['game']['id']\n",
    "        pts=all_stats[i]['pts']\n",
    "        pts_each_game = (player_id, game_id, pts)\n",
    "        pts_all_game.append(pts_each_game)\n",
    "    \n",
    "#     player_fname=all_stats[i]['player']['first_name']\n",
    "#     player_lname=all_stats[i]['player']['last_name']  \n",
    "# all_stats['pts']"
   ]
  },
  {
   "cell_type": "code",
   "execution_count": 96,
   "metadata": {},
   "outputs": [],
   "source": [
    "df=pd.DataFrame.from_records(pts_all_game, columns=['player_id','game_id','pts'])"
   ]
  },
  {
   "cell_type": "code",
   "execution_count": 204,
   "metadata": {},
   "outputs": [],
   "source": [
    "# player_df= df.groupby('player_id').agg({'game_id':'min', 'C': 'sum'})\n",
    "top_10_df = df.groupby('player_id')\\\n",
    "            .agg({'game_id':'size', 'pts':'mean'}) \\\n",
    "            .rename(columns={'game_id':'num_game','pts':'avg_pts_per_game'})\\\n",
    "            .sort_values(by=['avg_pts_per_game'], ascending=False)\\\n",
    "            .reset_index()\\\n",
    "            .head(10)"
   ]
  },
  {
   "cell_type": "code",
   "execution_count": 205,
   "metadata": {},
   "outputs": [
    {
     "data": {
      "text/html": [
       "<div>\n",
       "<style scoped>\n",
       "    .dataframe tbody tr th:only-of-type {\n",
       "        vertical-align: middle;\n",
       "    }\n",
       "\n",
       "    .dataframe tbody tr th {\n",
       "        vertical-align: top;\n",
       "    }\n",
       "\n",
       "    .dataframe thead th {\n",
       "        text-align: right;\n",
       "    }\n",
       "</style>\n",
       "<table border=\"1\" class=\"dataframe\">\n",
       "  <thead>\n",
       "    <tr style=\"text-align: right;\">\n",
       "      <th></th>\n",
       "      <th>player_id</th>\n",
       "      <th>num_game</th>\n",
       "      <th>avg_pts_per_game</th>\n",
       "    </tr>\n",
       "  </thead>\n",
       "  <tbody>\n",
       "    <tr>\n",
       "      <th>0</th>\n",
       "      <td>192</td>\n",
       "      <td>92</td>\n",
       "      <td>35.597826</td>\n",
       "    </tr>\n",
       "    <tr>\n",
       "      <th>1</th>\n",
       "      <td>115</td>\n",
       "      <td>93</td>\n",
       "      <td>27.365591</td>\n",
       "    </tr>\n",
       "    <tr>\n",
       "      <th>2</th>\n",
       "      <td>237</td>\n",
       "      <td>59</td>\n",
       "      <td>27.338983</td>\n",
       "    </tr>\n",
       "    <tr>\n",
       "      <th>3</th>\n",
       "      <td>172</td>\n",
       "      <td>85</td>\n",
       "      <td>27.190476</td>\n",
       "    </tr>\n",
       "    <tr>\n",
       "      <th>4</th>\n",
       "      <td>274</td>\n",
       "      <td>88</td>\n",
       "      <td>27.139535</td>\n",
       "    </tr>\n",
       "    <tr>\n",
       "      <th>5</th>\n",
       "      <td>140</td>\n",
       "      <td>92</td>\n",
       "      <td>26.956522</td>\n",
       "    </tr>\n",
       "    <tr>\n",
       "      <th>6</th>\n",
       "      <td>145</td>\n",
       "      <td>78</td>\n",
       "      <td>26.077922</td>\n",
       "    </tr>\n",
       "    <tr>\n",
       "      <th>7</th>\n",
       "      <td>15</td>\n",
       "      <td>92</td>\n",
       "      <td>25.956522</td>\n",
       "    </tr>\n",
       "    <tr>\n",
       "      <th>8</th>\n",
       "      <td>37</td>\n",
       "      <td>84</td>\n",
       "      <td>25.869048</td>\n",
       "    </tr>\n",
       "    <tr>\n",
       "      <th>9</th>\n",
       "      <td>465</td>\n",
       "      <td>82</td>\n",
       "      <td>25.865854</td>\n",
       "    </tr>\n",
       "  </tbody>\n",
       "</table>\n",
       "</div>"
      ],
      "text/plain": [
       "   player_id  num_game  avg_pts_per_game\n",
       "0        192        92         35.597826\n",
       "1        115        93         27.365591\n",
       "2        237        59         27.338983\n",
       "3        172        85         27.190476\n",
       "4        274        88         27.139535\n",
       "5        140        92         26.956522\n",
       "6        145        78         26.077922\n",
       "7         15        92         25.956522\n",
       "8         37        84         25.869048\n",
       "9        465        82         25.865854"
      ]
     },
     "execution_count": 205,
     "metadata": {},
     "output_type": "execute_result"
    }
   ],
   "source": [
    "top_10_df"
   ]
  },
  {
   "cell_type": "markdown",
   "metadata": {},
   "source": [
    "## Get all players information"
   ]
  },
  {
   "cell_type": "code",
   "execution_count": 162,
   "metadata": {},
   "outputs": [],
   "source": [
    "IDs=top_10_df['id'].to_list()"
   ]
  },
  {
   "cell_type": "code",
   "execution_count": 169,
   "metadata": {},
   "outputs": [],
   "source": [
    "all_infos=[]\n",
    "for i in IDs:\n",
    "    player_info=requests.get(f'https://www.balldontlie.io/api/v1/players/{i}').json()\n",
    "    all_infos.append(player_info)\n",
    "    time.sleep(1/2)"
   ]
  },
  {
   "cell_type": "code",
   "execution_count": 177,
   "metadata": {
    "scrolled": true
   },
   "outputs": [
    {
     "data": {
      "text/plain": [
       "['id',\n",
       " 'first_name',\n",
       " 'height_feet',\n",
       " 'height_inches',\n",
       " 'last_name',\n",
       " 'position',\n",
       " 'team',\n",
       " 'weight_pounds']"
      ]
     },
     "execution_count": 177,
     "metadata": {},
     "output_type": "execute_result"
    }
   ],
   "source": [
    "list(all_infos[0].keys())"
   ]
  },
  {
   "cell_type": "code",
   "execution_count": 235,
   "metadata": {},
   "outputs": [],
   "source": [
    "info_column=['id',\n",
    "    'first_name',\n",
    "    'last_name',\n",
    "    'height_feet',\n",
    "    'height_inches',\n",
    "    'position',\n",
    "    'team',\n",
    "    'weight_pounds']"
   ]
  },
  {
   "cell_type": "code",
   "execution_count": 239,
   "metadata": {},
   "outputs": [],
   "source": [
    "info_df=pd.DataFrame.from_records(all_infos, columns=info_column)\\\n",
    "        .drop(columns=['team'])\\\n",
    "        .rename(columns={'id':'player_id'})"
   ]
  },
  {
   "cell_type": "code",
   "execution_count": 240,
   "metadata": {},
   "outputs": [
    {
     "data": {
      "text/html": [
       "<div>\n",
       "<style scoped>\n",
       "    .dataframe tbody tr th:only-of-type {\n",
       "        vertical-align: middle;\n",
       "    }\n",
       "\n",
       "    .dataframe tbody tr th {\n",
       "        vertical-align: top;\n",
       "    }\n",
       "\n",
       "    .dataframe thead th {\n",
       "        text-align: right;\n",
       "    }\n",
       "</style>\n",
       "<table border=\"1\" class=\"dataframe\">\n",
       "  <thead>\n",
       "    <tr style=\"text-align: right;\">\n",
       "      <th></th>\n",
       "      <th>player_id</th>\n",
       "      <th>first_name</th>\n",
       "      <th>last_name</th>\n",
       "      <th>height_feet</th>\n",
       "      <th>height_inches</th>\n",
       "      <th>position</th>\n",
       "      <th>weight_pounds</th>\n",
       "    </tr>\n",
       "  </thead>\n",
       "  <tbody>\n",
       "    <tr>\n",
       "      <th>0</th>\n",
       "      <td>192</td>\n",
       "      <td>James</td>\n",
       "      <td>Harden</td>\n",
       "      <td>6</td>\n",
       "      <td>5</td>\n",
       "      <td>G</td>\n",
       "      <td>220</td>\n",
       "    </tr>\n",
       "    <tr>\n",
       "      <th>1</th>\n",
       "      <td>115</td>\n",
       "      <td>Stephen</td>\n",
       "      <td>Curry</td>\n",
       "      <td>6</td>\n",
       "      <td>3</td>\n",
       "      <td>G</td>\n",
       "      <td>190</td>\n",
       "    </tr>\n",
       "    <tr>\n",
       "      <th>2</th>\n",
       "      <td>237</td>\n",
       "      <td>LeBron</td>\n",
       "      <td>James</td>\n",
       "      <td>6</td>\n",
       "      <td>8</td>\n",
       "      <td>F</td>\n",
       "      <td>250</td>\n",
       "    </tr>\n",
       "    <tr>\n",
       "      <th>3</th>\n",
       "      <td>172</td>\n",
       "      <td>Paul</td>\n",
       "      <td>George</td>\n",
       "      <td>6</td>\n",
       "      <td>9</td>\n",
       "      <td>F</td>\n",
       "      <td>220</td>\n",
       "    </tr>\n",
       "    <tr>\n",
       "      <th>4</th>\n",
       "      <td>274</td>\n",
       "      <td>Kawhi</td>\n",
       "      <td>Leonard</td>\n",
       "      <td>6</td>\n",
       "      <td>7</td>\n",
       "      <td>F</td>\n",
       "      <td>230</td>\n",
       "    </tr>\n",
       "    <tr>\n",
       "      <th>5</th>\n",
       "      <td>140</td>\n",
       "      <td>Kevin</td>\n",
       "      <td>Durant</td>\n",
       "      <td>6</td>\n",
       "      <td>9</td>\n",
       "      <td>F</td>\n",
       "      <td>240</td>\n",
       "    </tr>\n",
       "    <tr>\n",
       "      <th>6</th>\n",
       "      <td>145</td>\n",
       "      <td>Joel</td>\n",
       "      <td>Embiid</td>\n",
       "      <td>7</td>\n",
       "      <td>0</td>\n",
       "      <td>F-C</td>\n",
       "      <td>250</td>\n",
       "    </tr>\n",
       "    <tr>\n",
       "      <th>7</th>\n",
       "      <td>15</td>\n",
       "      <td>Giannis</td>\n",
       "      <td>Antetokounmpo</td>\n",
       "      <td>6</td>\n",
       "      <td>11</td>\n",
       "      <td>F</td>\n",
       "      <td>242</td>\n",
       "    </tr>\n",
       "    <tr>\n",
       "      <th>8</th>\n",
       "      <td>37</td>\n",
       "      <td>Bradley</td>\n",
       "      <td>Beal</td>\n",
       "      <td>6</td>\n",
       "      <td>5</td>\n",
       "      <td>G</td>\n",
       "      <td>207</td>\n",
       "    </tr>\n",
       "    <tr>\n",
       "      <th>9</th>\n",
       "      <td>465</td>\n",
       "      <td>Kemba</td>\n",
       "      <td>Walker</td>\n",
       "      <td>6</td>\n",
       "      <td>1</td>\n",
       "      <td>G</td>\n",
       "      <td>184</td>\n",
       "    </tr>\n",
       "  </tbody>\n",
       "</table>\n",
       "</div>"
      ],
      "text/plain": [
       "   player_id first_name      last_name  height_feet  height_inches position  \\\n",
       "0        192      James         Harden            6              5        G   \n",
       "1        115    Stephen          Curry            6              3        G   \n",
       "2        237     LeBron          James            6              8        F   \n",
       "3        172       Paul         George            6              9        F   \n",
       "4        274      Kawhi        Leonard            6              7        F   \n",
       "5        140      Kevin         Durant            6              9        F   \n",
       "6        145       Joel         Embiid            7              0      F-C   \n",
       "7         15    Giannis  Antetokounmpo            6             11        F   \n",
       "8         37    Bradley           Beal            6              5        G   \n",
       "9        465      Kemba         Walker            6              1        G   \n",
       "\n",
       "   weight_pounds  \n",
       "0            220  \n",
       "1            190  \n",
       "2            250  \n",
       "3            220  \n",
       "4            230  \n",
       "5            240  \n",
       "6            250  \n",
       "7            242  \n",
       "8            207  \n",
       "9            184  "
      ]
     },
     "execution_count": 240,
     "metadata": {},
     "output_type": "execute_result"
    }
   ],
   "source": [
    "info_df"
   ]
  },
  {
   "cell_type": "code",
   "execution_count": 260,
   "metadata": {},
   "outputs": [],
   "source": [
    "result= top_10_df.merge(info_df, on='player_id').reset_index().rename(columns={'index':'rank'})"
   ]
  },
  {
   "cell_type": "code",
   "execution_count": 267,
   "metadata": {},
   "outputs": [],
   "source": [
    "result.to_csv('result.csv',index=False)"
   ]
  }
 ],
 "metadata": {
  "kernelspec": {
   "display_name": "Python 3",
   "language": "python",
   "name": "python3"
  },
  "language_info": {
   "codemirror_mode": {
    "name": "ipython",
    "version": 3
   },
   "file_extension": ".py",
   "mimetype": "text/x-python",
   "name": "python",
   "nbconvert_exporter": "python",
   "pygments_lexer": "ipython3",
   "version": "3.8.5"
  }
 },
 "nbformat": 4,
 "nbformat_minor": 2
}
